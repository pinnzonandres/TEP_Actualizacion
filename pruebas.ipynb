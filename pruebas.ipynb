{
 "cells": [
  {
   "cell_type": "code",
   "execution_count": 1,
   "metadata": {},
   "outputs": [],
   "source": [
    "from Load_Data import get_data"
   ]
  },
  {
   "cell_type": "code",
   "execution_count": 2,
   "metadata": {},
   "outputs": [
    {
     "name": "stdout",
     "output_type": "stream",
     "text": [
      "Se están cargando los archivos de la carpeta, c:\\Users\\andre\\OneDrive\\Escritorio\\DIP\\01_Reporte de Ejecución Presupuestal\\03_Código_Limpieza_Tablero\\Scripts\\..\\Archivos Base\\Reportes SIIF Vigencia\\23-07-31\n"
     ]
    }
   ],
   "source": [
    "database, fecha = get_data()"
   ]
  },
  {
   "cell_type": "code",
   "execution_count": 8,
   "metadata": {},
   "outputs": [
    {
     "data": {
      "text/plain": [
       "dict_keys(['CDP', 'CDP_FIP', 'RP', 'RP_FIP', 'Oblig', 'Oblig_FIP', 'OP', 'OP_FIP', 'Ejecución_Presupuestal_Agregada', 'Oblig_Reservas', 'Oblig_FIP_Reservas', 'OP_Reservas', 'OP_FIP_Reservas', 'RP_Reservas', 'RP_FIP_Reservas', 'CDP_22', 'CDP_FIP_22', 'RP_22', 'RP_FIP_22', 'Oblig_22', 'Oblig_FIP_22', 'OP_22', 'OP_FIP_22', 'Ejecución_Presupuestal_Agregada_22', 'RP_Reservas_22', 'RP_FIP_Reservas_22', 'Oblig_Reservas_22', 'Oblig_FIP_Reservas_22', 'OP_Reservas_22', 'OP_FIP_Reservas_22', 'CDP_21', 'CDP_FIP_21', 'RP_21', 'RP_FIP_21', 'Oblig_21', 'Oblig_FIP_21', 'OP_21', 'OP_FIP_21', 'Ejecución_Presupuestal_Agregada_21', 'RP_Reservas_21', 'RP_FIP_Reservas_21', 'Oblig_Reservas_21', 'Oblig_FIP_Reservas_21', 'OP_Reservas_21', 'OP_FIP_Reservas_21'])"
      ]
     },
     "execution_count": 8,
     "metadata": {},
     "output_type": "execute_result"
    }
   ],
   "source": [
    "database.keys()"
   ]
  },
  {
   "cell_type": "code",
   "execution_count": 9,
   "metadata": {},
   "outputs": [
    {
     "data": {
      "text/plain": [
       "'23-07-31'"
      ]
     },
     "execution_count": 9,
     "metadata": {},
     "output_type": "execute_result"
    }
   ],
   "source": [
    "fecha"
   ]
  },
  {
   "cell_type": "code",
   "execution_count": 11,
   "metadata": {},
   "outputs": [],
   "source": [
    "from datetime import datetime\n",
    "fecha = datetime.strptime(fecha, \"%y-%m-%d\")"
   ]
  },
  {
   "cell_type": "code",
   "execution_count": 13,
   "metadata": {},
   "outputs": [
    {
     "data": {
      "text/plain": [
       "2023"
      ]
     },
     "execution_count": 13,
     "metadata": {},
     "output_type": "execute_result"
    }
   ],
   "source": [
    "fecha.year"
   ]
  },
  {
   "cell_type": "code",
   "execution_count": null,
   "metadata": {},
   "outputs": [],
   "source": []
  }
 ],
 "metadata": {
  "kernelspec": {
   "display_name": "Python 3",
   "language": "python",
   "name": "python3"
  },
  "language_info": {
   "codemirror_mode": {
    "name": "ipython",
    "version": 3
   },
   "file_extension": ".py",
   "mimetype": "text/x-python",
   "name": "python",
   "nbconvert_exporter": "python",
   "pygments_lexer": "ipython3",
   "version": "3.10.6"
  },
  "orig_nbformat": 4
 },
 "nbformat": 4,
 "nbformat_minor": 2
}
